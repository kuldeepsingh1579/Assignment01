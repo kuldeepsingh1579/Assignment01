{
 "cells": [
  {
   "cell_type": "markdown",
   "id": "e1e7a519-be18-4cd7-8fa8-b2c0a0f0694c",
   "metadata": {},
   "source": [
    "question no.1"
   ]
  },
  {
   "cell_type": "markdown",
   "id": "49852a55-8ee3-4c19-961f-765b8df78ff7",
   "metadata": {},
   "source": [
    "use of for loop--> for loop is used to run a block of code for certain number of times.It is used to iterate over list , tuple, string, etc.\n",
    "\n",
    "\n",
    "use of while loop--> while loop can execute a block of code  as a condition is true if condition is false then code will not executed inside the whlie loop."
   ]
  },
  {
   "cell_type": "raw",
   "id": "39d31ddb-2edd-4617-933f-a572d21dd962",
   "metadata": {},
   "source": [
    "# example of for loop "
   ]
  },
  {
   "cell_type": "code",
   "execution_count": 1,
   "id": "e7c262b4-2d81-48fa-8178-9f482e50435d",
   "metadata": {},
   "outputs": [
    {
     "name": "stdout",
     "output_type": "stream",
     "text": [
      "[0, 3, 6, 9, 12, 15, 18]\n"
     ]
    }
   ],
   "source": [
    "l=[]\n",
    "for i in range(0,20,3):\n",
    "    #print(i)\n",
    "    l.append(i)\n",
    "print(l)    "
   ]
  },
  {
   "cell_type": "markdown",
   "id": "63c5d3ca-0353-4dac-bee6-85d849639ed9",
   "metadata": {},
   "source": [
    "#example of while loop"
   ]
  },
  {
   "cell_type": "code",
   "execution_count": 2,
   "id": "df56080f-1dcc-42b5-b460-8582371eb662",
   "metadata": {},
   "outputs": [
    {
     "name": "stdin",
     "output_type": "stream",
     "text": [
      "Enter the number: 5\n"
     ]
    },
    {
     "data": {
      "text/plain": [
       "120"
      ]
     },
     "execution_count": 2,
     "metadata": {},
     "output_type": "execute_result"
    }
   ],
   "source": [
    "num=int(input(\"Enter the number:\"))\n",
    "fact=1\n",
    "while num>0:\n",
    "    fact=fact*num\n",
    "    num=num-1\n",
    "fact        "
   ]
  },
  {
   "cell_type": "markdown",
   "id": "e1eeef83-dc27-45c3-be40-8e6b8638cfd0",
   "metadata": {},
   "source": [
    "#-- Question no.2"
   ]
  },
  {
   "cell_type": "markdown",
   "id": "870bc3e8-8ff1-4b87-ae26-29bfcf54b2f0",
   "metadata": {},
   "source": [
    "Sum of first 10 natural no."
   ]
  },
  {
   "cell_type": "code",
   "execution_count": 3,
   "id": "8364ef8e-544f-4183-a8ed-61b3a128a46d",
   "metadata": {},
   "outputs": [
    {
     "name": "stdout",
     "output_type": "stream",
     "text": [
      "55\n"
     ]
    }
   ],
   "source": [
    "sum=0\n",
    "i=1\n",
    "while i<=10:\n",
    "    sum=sum+i\n",
    "    i=i+1\n",
    "print(sum)"
   ]
  },
  {
   "cell_type": "code",
   "execution_count": 4,
   "id": "41ca1b3f-165a-4074-8011-b4641c99e33c",
   "metadata": {},
   "outputs": [
    {
     "name": "stdout",
     "output_type": "stream",
     "text": [
      "55\n"
     ]
    }
   ],
   "source": [
    "sum=0\n",
    "for i in range(1,11):\n",
    "    sum=sum+i\n",
    "print(sum)"
   ]
  },
  {
   "cell_type": "markdown",
   "id": "10d2f79f-4938-4de8-911e-2896360480d8",
   "metadata": {},
   "source": [
    "product of first 10 natural no."
   ]
  },
  {
   "cell_type": "code",
   "execution_count": 5,
   "id": "493fc02a-e6ba-4235-a3ed-ba3685b5fd72",
   "metadata": {},
   "outputs": [
    {
     "name": "stdout",
     "output_type": "stream",
     "text": [
      "3628800\n"
     ]
    }
   ],
   "source": [
    "product=1\n",
    "for i in range(1,11):\n",
    "    product=product*i\n",
    "print(product)"
   ]
  },
  {
   "cell_type": "code",
   "execution_count": 6,
   "id": "1fba8225-0595-4075-97ac-caa6382f41d3",
   "metadata": {},
   "outputs": [
    {
     "name": "stdout",
     "output_type": "stream",
     "text": [
      "3628800\n"
     ]
    }
   ],
   "source": [
    "product=1\n",
    "i=1\n",
    "while i<=10:\n",
    "    product=product*i\n",
    "    i=i+1\n",
    "print(product)"
   ]
  },
  {
   "cell_type": "markdown",
   "id": "9b70cf73-9950-41ad-b106-ecd05c1cd900",
   "metadata": {},
   "source": [
    "#----- Question No.4-----"
   ]
  },
  {
   "cell_type": "markdown",
   "id": "9f759b85-d787-49e3-9862-ac5574a3338d",
   "metadata": {},
   "source": [
    "##----- by using For LOOP----- "
   ]
  },
  {
   "cell_type": "code",
   "execution_count": 4,
   "id": "db63feba-dfbd-49d0-a72d-60f88b464f16",
   "metadata": {},
   "outputs": [],
   "source": [
    "l=list(range(1,101))"
   ]
  },
  {
   "cell_type": "code",
   "execution_count": 5,
   "id": "ce2f736a-79b6-476a-a876-4b8803985ae8",
   "metadata": {},
   "outputs": [
    {
     "name": "stdout",
     "output_type": "stream",
     "text": [
      "[1, 8, 27, 64, 125, 216, 343, 512, 729, 1000, 1331, 1728, 2197, 2744, 3375, 4096, 4913, 5832, 6859, 8000, 9261, 10648, 12167, 13824, 15625, 17576, 19683, 21952, 24389, 27000, 29791, 32768, 35937, 39304, 42875, 46656, 50653, 54872, 59319, 64000, 68921, 74088, 79507, 85184, 91125, 97336, 103823, 110592, 117649, 125000, 132651, 140608, 148877, 157464, 166375, 175616, 185193, 195112, 205379, 216000, 226981, 238328, 250047, 262144, 274625, 287496, 300763, 314432, 328509, 343000, 357911, 373248, 389017, 405224, 421875, 438976, 456533, 474552, 493039, 512000, 531441, 551368, 571787, 592704, 614125, 636056, 658503, 681472, 704969, 729000, 753571, 778688, 804357, 830584, 857375, 884736, 912673, 941192, 970299, 1000000]\n"
     ]
    }
   ],
   "source": [
    "l1=[]\n",
    "for i in l:\n",
    "    l1.append(i*i*i)\n",
    "print(l1)"
   ]
  },
  {
   "cell_type": "code",
   "execution_count": 7,
   "id": "50868926-1b71-473e-8afc-3f01ac84beee",
   "metadata": {},
   "outputs": [
    {
     "name": "stdout",
     "output_type": "stream",
     "text": [
      "[8, 64, 125, 216, 512, 1000, 1728, 2744, 3375, 4096, 5832, 8000, 10648, 13824, 15625, 17576, 21952, 27000, 32768, 39304, 42875, 46656, 54872, 64000, 74088, 85184, 91125, 97336, 110592, 125000, 140608, 157464, 166375, 175616, 195112, 216000, 238328, 262144, 274625, 287496, 314432, 343000, 373248, 405224, 421875, 438976, 474552, 512000, 551368, 592704, 614125, 636056, 681472, 729000, 778688, 830584, 857375, 884736, 941192, 1000000]\n"
     ]
    }
   ],
   "source": [
    "l2=[]\n",
    "for i in l1:\n",
    "    if i%4==0 or i%5==0:\n",
    "        l2.append(i)\n",
    "print(l2)\n",
    "    "
   ]
  },
  {
   "cell_type": "markdown",
   "id": "cf93fa47-0325-4ed0-904d-96dfcf298603",
   "metadata": {},
   "source": [
    "##---- By using while loop-----"
   ]
  },
  {
   "cell_type": "code",
   "execution_count": null,
   "id": "c984602b-d19e-4205-acb0-2cfea52d9c61",
   "metadata": {},
   "outputs": [],
   "source": []
  },
  {
   "cell_type": "markdown",
   "id": "97aa67d9-f98e-41c1-9caa-477e1b19e61b",
   "metadata": {},
   "source": [
    "##---- Question no.5"
   ]
  },
  {
   "cell_type": "code",
   "execution_count": 1,
   "id": "bb9ffe7e-15d3-43d6-904a-b3f2358da677",
   "metadata": {},
   "outputs": [
    {
     "name": "stdout",
     "output_type": "stream",
     "text": [
      "No. of vowels in s 12\n"
     ]
    }
   ],
   "source": [
    "s= \"I want to become a data scientist\"\n",
    "vowels=['a','A','E','e','I','i','o','O','u','U']\n",
    "count=0\n",
    "for i in s:\n",
    "    if i in vowels:\n",
    "        count+=1\n",
    "print( 'No. of vowels in s', count)    "
   ]
  },
  {
   "cell_type": "code",
   "execution_count": null,
   "id": "f87161b4-e39e-424e-975f-21361c9431c0",
   "metadata": {},
   "outputs": [],
   "source": []
  }
 ],
 "metadata": {
  "kernelspec": {
   "display_name": "Python 3 (ipykernel)",
   "language": "python",
   "name": "python3"
  },
  "language_info": {
   "codemirror_mode": {
    "name": "ipython",
    "version": 3
   },
   "file_extension": ".py",
   "mimetype": "text/x-python",
   "name": "python",
   "nbconvert_exporter": "python",
   "pygments_lexer": "ipython3",
   "version": "3.10.8"
  }
 },
 "nbformat": 4,
 "nbformat_minor": 5
}
